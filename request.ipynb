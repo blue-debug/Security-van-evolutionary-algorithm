{
 "cells": [
  {
   "cell_type": "code",
   "execution_count": 16,
   "metadata": {},
   "outputs": [],
   "source": [
    "import os\n",
    "import re  # 正则表达式提取文本\n",
    "from jsonpath import jsonpath  # 解析json数据\n",
    "import requests  # 发送请求\n",
    "import pandas as pd  # 存取csv文件\n",
    "import datetime  # 转换时间用\n",
    "\n",
    "import time\n",
    "import re\n",
    "import random\n",
    "\n",
    "def trans_time(v_str):\n",
    "\t\"\"\"转换GMT时间为标准格式\"\"\"\n",
    "\tGMT_FORMAT = '%a %b %d %H:%M:%S +0800 %Y'\n",
    "\ttimeArray = datetime.datetime.strptime(v_str, GMT_FORMAT)\n",
    "\tret_time = timeArray.strftime(\"%Y-%m-%d %H:%M:%S\")\n",
    "\treturn ret_time"
   ]
  },
  {
   "cell_type": "code",
   "execution_count": 17,
   "metadata": {},
   "outputs": [],
   "source": [
    "id = 4860690891018271\n",
    "mid = id\n",
    "max_id = ''"
   ]
  },
  {
   "cell_type": "code",
   "execution_count": 18,
   "metadata": {},
   "outputs": [
    {
     "name": "stderr",
     "output_type": "stream",
     "text": [
      "/tmp/ipykernel_1296451/3803614884.py:9: FutureWarning: The frame.append method is deprecated and will be removed from pandas in a future version. Use pandas.concat instead.\n",
      "  df = df.append({\"index\": id, \"text\": string}, ignore_index = True)\n"
     ]
    }
   ],
   "source": [
    "url = f'https://m.weibo.cn/statuses/extend?id={id}'\n",
    "r = requests.get(url, timeout = 5)\n",
    "\n",
    "string = r.json()['data']['longTextContent']\n",
    "# print(string)\n",
    "\n",
    "# export to csv\n",
    "df = pd.DataFrame(columns = [\"index\", \"text\"])\n",
    "df = df.append({\"index\": id, \"text\": string}, ignore_index = True)\n",
    "df.to_csv(\"spider.csv\", index = False)\n",
    "\n",
    "# pattern = \"[\\u4e00-\\u9fa5]{5}\"\n",
    "\n",
    "# matches = re.findall(pattern, string)\n",
    "\n",
    "# if matches:\n",
    "#     for match in matches:\n",
    "#         print(match, end = \"\")\n",
    "# else:\n",
    "#     print(\"匹配失败\")"
   ]
  },
  {
   "cell_type": "code",
   "execution_count": 21,
   "metadata": {},
   "outputs": [],
   "source": [
    "def sub_comment(comment_id):\n",
    "    headers = {\n",
    "    'Cookie':'WEIBOCN_FROM=1110006030; SUBP=0033WrSXqPxfM725Ws9jqgMF55529P9D9WFfYb7mkA6BHfpdMmuxGQ8k5JpX5K-hUgL.FoqpShBfe05cSoM2dJLoIE-LxKqLBoMLBo2LxKnL1KeL1-BLxKBLBo.L12zLxK-LB.qL1hSo; SCF=At3cKMF8zNNlQvzopN0jE4GXnW6d1oMHWhTaIC30tCfqPajGN6tNkHrnFHqQBP4OlYtShy_Or1r2ELmJDriqh-I.; SUB=_2A25OzHZUDeRhGeBP71YU8y7KzTuIHXVqTxocrDV6PUJbktAKLVfBkW1NRUYLcaFm2Y6WDEzl3u_svMh_CqKt1m1s; SSOLoginState=1674053124; ALF=1676645124; MLOGIN=1; _T_WM=82331204434; XSRF-TOKEN=096b86; mweibo_short_token=d6391958c3; M_WEIBOCN_PARAMS=oid%3D4860690891018271%26luicode%3D20000061%26lfid%3D4860690891018271%26uicode%3D20000061%26fid%3D4860690891018271',\n",
    "    f'Referer': 'https://m.weibo.cn/detail/{id}?cid={comment_id}',\n",
    "    'User-Agent': 'Mozilla/5.0 (Windows NT 10.0; Win64; x64) AppleWebKit/537.36 (KHTML, like Gecko) Chrome/109.0.0.0 Safari/537.36 Edg/109.0.1518.61',\n",
    "    'X-Requested-With': 'XMLHttpRequest'\n",
    "    }\n",
    "\n",
    "    max_id = 0\n",
    "    id_type = 0\n",
    "    max = 1\n",
    "    times = 0\n",
    "\n",
    "    temp_index, temp_text = [], []\n",
    "\n",
    "    while times < max:\n",
    "        url = f'https://m.weibo.cn/comments/hotFlowChild?cid={comment_id}&max_id={max_id}&max_id_type={id_type}'\n",
    "        print(url)\n",
    "        \n",
    "        r = requests.get(url, headers = headers, timeout = 5)\n",
    "        # try:\n",
    "        if r.status_code == 200:\n",
    "            cards = r.json()['data']\n",
    "            \n",
    "            max_id = r.json()['max_id']\n",
    "            id_type = r.json()['max_id_type']\n",
    "            max = r.json()['max']\n",
    "\n",
    "            for i in cards:\n",
    "                print(i['text'])\n",
    "                temp_index.append(i[\"id\"])\n",
    "                temp_text.append(i[\"text\"])\n",
    "\n",
    "            time.sleep(1)\n",
    "            times += 1\n",
    "    \n",
    "    return temp_index, temp_text"
   ]
  },
  {
   "cell_type": "code",
   "execution_count": 22,
   "metadata": {},
   "outputs": [
    {
     "name": "stdout",
     "output_type": "stream",
     "text": [
      "https://m.weibo.cn/comments/hotflow?id=4860690891018271&mid=4860690891018271&max_id_type=0\n",
      "4860731847611563 另外就是涉及到严重剧透的一个提示，但是我想来想去又觉得不吐不快，反正就算剧透也不是在这部，那就说一下。大家看的时候要特别注意李雪健老师角色和女助手角色展示的一条明显的不能再明显的暗线（数字），结合导演疯狂暗示无数次的摄像头，李雪健老师最后的“点火”命令，其实是预知，而不是在赌。\n",
      "https://m.weibo.cn/comments/hotFlowChild?cid=4860731847611563&max_id=0&max_id_type=0\n",
      "看到彩蛋就会明白为什么前面给摄像头那么多特写了，莫斯早就苏醒了\n"
     ]
    },
    {
     "ename": "TypeError",
     "evalue": "'builtin_function_or_method' object is not subscriptable",
     "output_type": "error",
     "traceback": [
      "\u001b[0;31m---------------------------------------------------------------------------\u001b[0m",
      "\u001b[0;31mTypeError\u001b[0m                                 Traceback (most recent call last)",
      "Cell \u001b[0;32mIn[22], line 30\u001b[0m\n\u001b[1;32m     27\u001b[0m temp_index\u001b[39m.\u001b[39mappend(i[\u001b[39m'\u001b[39m\u001b[39mid\u001b[39m\u001b[39m'\u001b[39m])\n\u001b[1;32m     28\u001b[0m temp_text\u001b[39m.\u001b[39mappend(i[\u001b[39m'\u001b[39m\u001b[39mtext\u001b[39m\u001b[39m'\u001b[39m])\n\u001b[0;32m---> 30\u001b[0m a, b \u001b[39m=\u001b[39m sub_comment(i[\u001b[39m'\u001b[39;49m\u001b[39mid\u001b[39;49m\u001b[39m'\u001b[39;49m])\n\u001b[1;32m     31\u001b[0m temp_index\u001b[39m.\u001b[39mappend(a)\n\u001b[1;32m     32\u001b[0m temp_text\u001b[39m.\u001b[39mappend(b)\n",
      "Cell \u001b[0;32mIn[21], line 31\u001b[0m, in \u001b[0;36msub_comment\u001b[0;34m(comment_id)\u001b[0m\n\u001b[1;32m     29\u001b[0m \u001b[39mfor\u001b[39;00m i \u001b[39min\u001b[39;00m cards:\n\u001b[1;32m     30\u001b[0m     \u001b[39mprint\u001b[39m(i[\u001b[39m'\u001b[39m\u001b[39mtext\u001b[39m\u001b[39m'\u001b[39m])\n\u001b[0;32m---> 31\u001b[0m     temp_index\u001b[39m.\u001b[39;49mappend[\u001b[39m\"\u001b[39;49m\u001b[39mid\u001b[39;49m\u001b[39m\"\u001b[39;49m]\n\u001b[1;32m     32\u001b[0m     temp_text\u001b[39m.\u001b[39mappend[\u001b[39m\"\u001b[39m\u001b[39mtext\u001b[39m\u001b[39m\"\u001b[39m]\n\u001b[1;32m     34\u001b[0m time\u001b[39m.\u001b[39msleep(\u001b[39m1\u001b[39m)\n",
      "\u001b[0;31mTypeError\u001b[0m: 'builtin_function_or_method' object is not subscriptable"
     ]
    }
   ],
   "source": [
    "# 第一条评论\n",
    "headers = {\n",
    "    'Cookie':'WEIBOCN_FROM=1110006030; SUBP=0033WrSXqPxfM725Ws9jqgMF55529P9D9WFfYb7mkA6BHfpdMmuxGQ8k5JpX5K-hUgL.FoqpShBfe05cSoM2dJLoIE-LxKqLBoMLBo2LxKnL1KeL1-BLxKBLBo.L12zLxK-LB.qL1hSo; SCF=At3cKMF8zNNlQvzopN0jE4GXnW6d1oMHWhTaIC30tCfqPajGN6tNkHrnFHqQBP4OlYtShy_Or1r2ELmJDriqh-I.; SUB=_2A25OzHZUDeRhGeBP71YU8y7KzTuIHXVqTxocrDV6PUJbktAKLVfBkW1NRUYLcaFm2Y6WDEzl3u_svMh_CqKt1m1s; SSOLoginState=1674053124; ALF=1676645124; MLOGIN=1; _T_WM=82331204434; XSRF-TOKEN=096b86; mweibo_short_token=d6391958c3; M_WEIBOCN_PARAMS=oid%3D4860690891018271%26luicode%3D20000061%26lfid%3D4860690891018271%26uicode%3D20000061%26fid%3D4860690891018271',\n",
    "    'Referer': 'https://m.weibo.cn/detail/4860690891018271',\n",
    "    'User-Agent': 'Mozilla/5.0 (Windows NT 10.0; Win64; x64) AppleWebKit/537.36 (KHTML, like Gecko) Chrome/109.0.0.0 Safari/537.36 Edg/109.0.1518.61',\n",
    "    'X-Requested-With': 'XMLHttpRequest'\n",
    "}\n",
    "\n",
    "max = 1\n",
    "times = 0\n",
    "\n",
    "# 滚动评论\n",
    "url = f'https://m.weibo.cn/comments/hotflow?id={id}&mid={mid}&max_id={max_id}&max_id_type={id_type}' if max_id else f'https://m.weibo.cn/comments/hotflow?id={id}&mid={mid}&max_id_type=0'\n",
    "print(url)\n",
    "\n",
    "while times < max:\n",
    "\t# 发送请求\n",
    "\tr = requests.get(url, headers = headers, timeout = 5)\n",
    "\t# try:\n",
    "\tif r.status_code == 200:\n",
    "\t\tcards = r.json()['data']['data']\n",
    "\n",
    "\t\ttemp_index, temp_text = [], []\n",
    "\n",
    "\t\tfor i in cards:\n",
    "\t\t\tprint(i['id'], i['text'])\n",
    "\t\t\ttemp_index.append(i['id'])\n",
    "\t\t\ttemp_text.append(i['text'])\n",
    "\n",
    "\t\t\ta, b = sub_comment(i['id'])\n",
    "\t\t\ttemp_index.append(a)\n",
    "\t\t\ttemp_text.append(b)\n",
    "\n",
    "\t\tdf = pd.DataFrame({\"index\": temp_index, \"text\": temp_text})\n",
    "\t\t# df = df.append({\"index\": cards['id'], \"text\": cards['text']}, ignore_index = True)\n",
    "\t\t\n",
    "\t\tdf.to_csv(\"spider.csv\", index = False, mode = 'a', header = False)\n",
    "\n",
    "\t\tmax_id = r.json()['data']['max_id']\n",
    "\t\tid_type = r.json()['data']['max_id_type']\n",
    "\t\tmax = r.json()['max']\n",
    "\t\t\n",
    "\t\ttime.sleep(random.uniform(0, 2))\n",
    "\t\ttimes += 1"
   ]
  },
  {
   "cell_type": "code",
   "execution_count": null,
   "metadata": {},
   "outputs": [],
   "source": [
    "# # 转发数\n",
    "# reposts_count_list = jsonpath(cards, '$..mblog.reposts_count')\n",
    "# # 评论数\n",
    "# comments_count_list = jsonpath(cards, '$..mblog.comments_count')\n",
    "# # 点赞数\n",
    "# attitudes_count_list = jsonpath(cards, '$..mblog.attitudes_count')\n",
    "\n",
    "# # 请求地址\n",
    "# url = 'https://m.weibo.cn/api/container/getIndex'\n",
    "# # 请求参数\n",
    "# params = {\n",
    "# \t\"containerid\": \"100103type=1&q={}\".format(topic),\n",
    "# \t\"page_type\": \"searchall\",\n",
    "# \t# \"page\": searchall\n",
    "# }\n",
    "# r = requests.get(url, headers = headers, params = params)"
   ]
  },
  {
   "cell_type": "code",
   "execution_count": null,
   "metadata": {},
   "outputs": [],
   "source": [
    "# df = pd.DataFrame(\n",
    "# \t{\n",
    "# \t\t'页码': [page] * len(id_list),\n",
    "# \t\t'微博id': id_list,\n",
    "# \t\t'微博bid': bid_list,\n",
    "# \t\t'微博作者': author_list,\n",
    "# \t\t'发布时间': time_list,\n",
    "# \t\t'微博内容': text2_list,\n",
    "# \t\t'转发数': reposts_count_list,\n",
    "# \t\t'评论数': comments_count_list,\n",
    "# \t\t'点赞数': attitudes_count_list,\n",
    "# \t}\n",
    "# )"
   ]
  },
  {
   "cell_type": "code",
   "execution_count": null,
   "metadata": {},
   "outputs": [],
   "source": [
    "import logging\n",
    "from urllib.parse import urljoin\n",
    "import requests\n",
    "from bs4 import BeautifulSoup\n",
    "\n",
    "logging.basicConfig(\n",
    "    format='%(asctime)s %(levelname)s:%(message)s',\n",
    "    level=logging.INFO)\n",
    "\n",
    "class Crawler:\n",
    "\n",
    "    def __init__(self, urls=[]):\n",
    "        self.visited_urls = []\n",
    "        self.urls_to_visit = urls\n",
    "\n",
    "    def download_url(self, url):\n",
    "        return requests.get(url).text\n",
    "\n",
    "    def get_linked_urls(self, url, html):\n",
    "        soup = BeautifulSoup(html, 'html.parser')\n",
    "        for link in soup.find_all('a'):\n",
    "            path = link.get('href')\n",
    "            if path and path.startswith('/'):\n",
    "                path = urljoin(url, path)\n",
    "            yield path\n",
    "\n",
    "    def add_url_to_visit(self, url):\n",
    "        if url not in self.visited_urls and url not in self.urls_to_visit:\n",
    "            self.urls_to_visit.append(url)\n",
    "\n",
    "    def crawl(self, url):\n",
    "        html = self.download_url(url)\n",
    "        for url in self.get_linked_urls(url, html):\n",
    "            self.add_url_to_visit(url)\n",
    "\n",
    "    def run(self):\n",
    "        while self.urls_to_visit:\n",
    "            url = self.urls_to_visit.pop(0)\n",
    "            logging.info(f'Crawling: {url}')\n",
    "            try:\n",
    "                self.crawl(url)\n",
    "            except Exception:\n",
    "                logging.exception(f'Failed to crawl: {url}')\n",
    "            finally:\n",
    "                self.visited_urls.append(url)\n",
    "\n",
    "if __name__ == '__main__':\n",
    "    Crawler(urls=['https://www.imdb.com/']).run()"
   ]
  }
 ],
 "metadata": {
  "kernelspec": {
   "display_name": "Python 3",
   "language": "python",
   "name": "python3"
  },
  "language_info": {
   "codemirror_mode": {
    "name": "ipython",
    "version": 3
   },
   "file_extension": ".py",
   "mimetype": "text/x-python",
   "name": "python",
   "nbconvert_exporter": "python",
   "pygments_lexer": "ipython3",
   "version": "3.8.10"
  },
  "orig_nbformat": 4,
  "vscode": {
   "interpreter": {
    "hash": "916dbcbb3f70747c44a77c7bcd40155683ae19c65e1c03b4aa3499c5328201f1"
   }
  }
 },
 "nbformat": 4,
 "nbformat_minor": 2
}
