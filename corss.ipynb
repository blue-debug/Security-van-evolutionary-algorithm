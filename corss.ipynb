{
 "cells": [
  {
   "cell_type": "code",
   "execution_count": 157,
   "id": "b5dc700c-11af-4424-98f0-648f52f86fe1",
   "metadata": {},
   "outputs": [],
   "source": [
    "import os\n",
    "import random\n",
    "import re"
   ]
  },
  {
   "cell_type": "code",
   "execution_count": 158,
   "id": "b45f0ed6-79da-4ee4-917a-4d900da7c126",
   "metadata": {},
   "outputs": [],
   "source": [
    "#with open(\"BankProblem.txt\") as file_pi\n",
    "    #data = file_pi.read()\n",
    "\n",
    "population = {}\n",
    "dict = {}\n",
    "p = 10\n",
    "tol_value =  285 \n",
    "f = open(\"BankProblem.txt\", 'r')\n",
    "data = f.readlines()"
   ]
  },
  {
   "cell_type": "code",
   "execution_count": 159,
   "id": "43fa6667-7a2e-4691-b6fb-4acac202813e",
   "metadata": {},
   "outputs": [],
   "source": [
    "i = 0\n",
    "while i < len(data):\n",
    "    if (data[i].find(\"bag\") == 1):\n",
    "        dict[int(re.findall(\"\\d+\", data[i])[0], 10) - 1] = [float(re.findall(r\"[-+]?\\d*\\.\\d+|\\d+\", data[i+1])[0]), float(re.findall(r\"[-+]?\\d*\\.\\d+|\\d+\", data[i+2])[0])]\n",
    "    i += 1  \n",
    "    ## convert txt to dict with float"
   ]
  },
  {
   "cell_type": "code",
   "execution_count": 160,
   "id": "ff2e9321-a8a9-497c-b20f-cc952f1d4bfd",
   "metadata": {},
   "outputs": [
    {
     "name": "stdout",
     "output_type": "stream",
     "text": [
      "{0: [71, 34, 68, 54, 96, 20, 22, 63, 43, 8, 53, 50, 78, 2, 31, 39, 6, 36, 62, 80, 77, 98, 52, 11, 24, 73, 21, 97, 46, 56, 61, 65, 1, 90, 32, 3, 70, 55, 49, 5, 35, 95, 18, 99, 47, 83, 60, 17, 40, 23, 91, 9, 67, 72], 1: [92, 64, 24, 80, 17, 29, 59, 22, 10, 69, 47, 1, 74, 46, 77, 31, 6, 45, 53, 76, 86, 97, 79, 23, 94, 58, 25, 16, 2, 5, 70, 48, 14, 12, 57, 85, 91, 51, 4, 32, 33, 84, 55, 49, 67, 38, 96, 27, 37], 2: [24, 55, 22, 34, 28, 82, 79, 8, 39, 19, 12, 66, 97, 51, 53, 42, 31, 89, 85, 71, 16, 41, 46, 45, 27, 90, 9, 52, 56, 87, 0, 88, 44, 4, 37, 17, 68, 93, 50, 30, 49, 47, 63, 75, 29, 6, 73, 58, 67, 65, 21], 3: [67, 30, 4, 75, 70, 19, 71, 94, 47, 44, 48, 28, 37, 0, 99, 14, 24, 52, 51, 78, 34, 6, 2, 96, 42, 98, 7, 32, 26, 76, 31, 87, 69, 79, 38, 22, 53, 12, 20, 63, 74, 64, 77, 41, 88, 90, 40, 45, 10, 23, 85, 73], 4: [87, 76, 85, 17, 82, 16, 36, 66, 63, 77, 62, 42, 95, 78, 31, 90, 88, 68, 26, 93, 10, 69, 39, 35, 0, 75, 91, 58, 37, 25, 48, 96, 38, 28, 84, 41, 9, 70, 79, 1, 4, 99, 5, 7, 32, 97, 72, 60, 94, 6], 5: [88, 44, 28, 18, 17, 85, 95, 42, 19, 12, 67, 4, 79, 97, 68, 75, 50, 37, 58, 31, 63, 15, 7, 53, 74, 87, 20, 3, 82, 46, 78, 86, 65, 90, 99, 14, 61, 52, 91, 43, 54, 83, 25, 70, 30, 11, 69, 23, 49, 29, 8, 32, 1, 24], 6: [12, 76, 75, 35, 73, 60, 2, 91, 7, 80, 56, 64, 15, 43, 85, 16, 93, 90, 92, 86, 82, 69, 8, 54, 29, 18, 65, 3, 72, 44, 24, 67, 95, 42, 62, 45, 71, 77, 11, 84, 27, 78, 33, 37, 31, 55, 94, 4, 87, 26, 83, 14, 28, 5, 57, 41, 52], 7: [36, 18, 23, 60, 5, 32, 97, 7, 75, 34, 85, 81, 9, 67, 1, 27, 61, 12, 15, 20, 37, 98, 14, 48, 24, 94, 82, 6, 25, 17, 16, 19, 56, 72, 30, 78, 66, 47, 57, 45, 79, 95, 40, 50, 55, 62, 84, 43, 92, 42, 11], 8: [27, 8, 9, 47, 51, 78, 52, 21, 70, 60, 17, 84, 45, 99, 85, 55, 82, 80, 81, 38, 64, 39, 37, 73, 90, 19, 75, 61, 86, 18, 16, 66, 11, 2, 28, 41, 0, 25, 1, 48, 57, 71, 3, 92, 77], 9: [58, 88, 37, 90, 21, 55, 81, 97, 34, 67, 24, 10, 79, 45, 65, 22, 7, 53, 32, 87, 66, 15, 61, 83, 25, 8, 6, 92, 17, 86, 73, 99, 28, 71, 48, 35, 80, 13, 52, 89, 49, 64, 4, 14, 72, 43, 76, 39, 29, 18, 60, 5, 41]}\n"
     ]
    }
   ],
   "source": [
    "for times in range(p): ## inital\n",
    "    temp, sum = [], 0 ## sum为当前背包重量 temp为当前队列\n",
    "    while (True):\n",
    "        now_key = random.randint(0, 99)\n",
    "        if (now_key not in temp):\n",
    "            temp.append(now_key)\n",
    "            sum += dict[now_key][0]\n",
    "            if (sum > tol_value):\n",
    "                temp.pop()\n",
    "                sum -= dict[now_key][0]\n",
    "                break\n",
    "        # print(f'总和为{sum} 选取{now_key}bag 增加{dict[now_key][0]}')\n",
    "    population[times] = temp\n",
    "print(population)"
   ]
  },
  {
   "cell_type": "code",
   "execution_count": 161,
   "id": "61b6b27f-3b5c-426d-82be-bef79fdbd53d",
   "metadata": {},
   "outputs": [],
   "source": [
    "def fitness(array_num):\n",
    "    sum_fit, sum_weight = 0, 0\n",
    "    sum_value = 0\n",
    "    # print(array_num)\n",
    "    for i in array_num:\n",
    "        sum_fit += dict[i][1] / dict[i][0]\n",
    "        sum_weight += dict[i][0]\n",
    "        sum_value += dict[i][1]\n",
    "    # print(sum_weight, sum_weight)\n",
    "    # sum_ = [sum_ += dict[j][0] for i in array for j in population[i]]\n",
    "    if sum_weight < 285 :\n",
    "        return sum_fit\n",
    "    else:\n",
    "        print(f'{sum_weight} too heavy, jump it')\n",
    "        return -1"
   ]
  },
  {
   "cell_type": "code",
   "execution_count": 162,
   "id": "8951aa55-223b-4a59-8b88-bb59b2a40dfa",
   "metadata": {},
   "outputs": [
    {
     "name": "stdout",
     "output_type": "stream",
     "text": [
      "568.7466145933432 0\n"
     ]
    }
   ],
   "source": [
    "gernation, times = 10000, 0\n",
    "lowest_index = 0\n",
    "for i in population:\n",
    "    if (fitness(population[i]) < lowest_fitness):\n",
    "        lowest_fitness = fitness(population[i])\n",
    "        lowest_index = i\n",
    "print(lowest_fitness, lowest_index)"
   ]
  },
  {
   "cell_type": "code",
   "execution_count": 163,
   "id": "aebc31e7-af8d-4eb8-b08a-a853a54c061f",
   "metadata": {},
   "outputs": [],
   "source": [
    "import sys\n",
    "sys.setrecursionlimit(11000)"
   ]
  },
  {
   "cell_type": "code",
   "execution_count": 164,
   "id": "69e0d643-49b2-4c2b-bbc8-a85e77778fca",
   "metadata": {},
   "outputs": [],
   "source": [
    "def mutation():\n",
    "    # binary tournament\n",
    "    # a = [random.randint(0, p - 1) for _ in range(2)]\n",
    "    \n",
    "    global times, lowest_index\n",
    "    \n",
    "    # parents = [random.randint(0, p - 1) for _ in range(2)]\n",
    "    # print(population)\n",
    "    while (True):\n",
    "        i = random.randint(0, len(population) - 1)\n",
    "        j = random.randint(0, len(population) - 1)\n",
    "        if i != j:\n",
    "            break\n",
    "        \n",
    "    p1, p2 = population[i], population[j]\n",
    "    index = random.randint(0, len(p1) if len(p1) < len(p2) else len(p2))\n",
    "    \n",
    "    print(f'round {times + 1}')\n",
    "    # print(parents, index, len(p1), len(p2))\n",
    "    \n",
    "    e = p1[0 : index] + p2[index : len(p2)]\n",
    "    f = p2[0 : index] + p1[index: len(p1)]\n",
    "    \n",
    "    # mutation 1 times TODO: mulity mutation\n",
    "    while (True): \n",
    "        a, b = random.randint(0, 99), random.randint(0, 99)\n",
    "        if (a != b and a not in p1 and b not in p2):\n",
    "            e[random.randint(0, len(e)) - 1] = a\n",
    "            f[random.randint(0, len(f)) - 1] = b\n",
    "            break\n",
    "    \n",
    "    if (fitness(e) > fitness(f)):\n",
    "        child = e\n",
    "    else:\n",
    "        child = f\n",
    "\n",
    "    if (fitness(child) > fitness(population[lowest_index])):\n",
    "        population[lowest_index] = child\n",
    "        print(f'mutation successfully number {lowest_index} changed')\n",
    "        lowest_fitness = fitness(child)\n",
    "        \n",
    "        for i in population:\n",
    "            if (fitness(population[i]) < fitness(population[lowest_index])):\n",
    "                lowest_index = i\n",
    "\n",
    "            \n",
    "    times += 1\n",
    "    if (times < gernation): mutation()"
   ]
  },
  {
   "cell_type": "code",
   "execution_count": null,
   "id": "83ed5fbd-ed1b-48ef-81d9-03818e0f37a2",
   "metadata": {},
   "outputs": [],
   "source": []
  }
 ],
 "metadata": {
  "kernelspec": {
   "display_name": "Python 3 (ipykernel)",
   "language": "python",
   "name": "python3"
  },
  "language_info": {
   "codemirror_mode": {
    "name": "ipython",
    "version": 3
   },
   "file_extension": ".py",
   "mimetype": "text/x-python",
   "name": "python",
   "nbconvert_exporter": "python",
   "pygments_lexer": "ipython3",
   "version": "3.10.6"
  }
 },
 "nbformat": 4,
 "nbformat_minor": 5
}
