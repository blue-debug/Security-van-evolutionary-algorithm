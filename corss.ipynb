{
 "cells": [
  {
   "cell_type": "code",
   "execution_count": null,
   "id": "b5dc700c-11af-4424-98f0-648f52f86fe1",
   "metadata": {},
   "outputs": [],
   "source": [
    "import os\n",
    "import random\n",
    "import re"
   ]
  },
  {
   "cell_type": "code",
   "execution_count": null,
   "id": "b45f0ed6-79da-4ee4-917a-4d900da7c126",
   "metadata": {},
   "outputs": [],
   "source": [
    "#with open(\"BankProblem.txt\") as file_pi\n",
    "    #data = file_pi.read()\n",
    "\n",
    "population = {}\n",
    "dict = {}\n",
    "p = 10\n",
    "tol_value =  285 \n",
    "f = open(\"BankProblem.txt\", 'r')\n",
    "data = f.readlines()"
   ]
  },
  {
   "cell_type": "code",
   "execution_count": null,
   "id": "43fa6667-7a2e-4691-b6fb-4acac202813e",
   "metadata": {},
   "outputs": [],
   "source": [
    "i = 0\n",
    "while i < len(data):\n",
    "    if (data[i].find(\"bag\") == 1):\n",
    "        dict[int(re.findall(\"\\d+\", data[i])[0], 10) - 1] = [float(re.findall(r\"[-+]?\\d*\\.\\d+|\\d+\", data[i+1])[0]), float(re.findall(r\"[-+]?\\d*\\.\\d+|\\d+\", data[i+2])[0])]\n",
    "    i += 1  \n",
    "    ## convert txt to dict with float"
   ]
  },
  {
   "cell_type": "code",
   "execution_count": null,
   "id": "ff2e9321-a8a9-497c-b20f-cc952f1d4bfd",
   "metadata": {},
   "outputs": [],
   "source": [
    "for times in range(p): ## inital\n",
    "    temp, sum = [], 0 ## sum为当前背包重量 temp为当前队列\n",
    "    while (True):\n",
    "        now_key = random.randint(0, 99)\n",
    "        if (now_key not in temp):\n",
    "            temp.append(now_key)\n",
    "            sum += dict[now_key][0]\n",
    "            if (sum > tol_value):\n",
    "                temp.pop()\n",
    "                sum -= dict[now_key][0]\n",
    "                break\n",
    "        # print(f'总和为{sum} 选取{now_key}bag 增加{dict[now_key][0]}')\n",
    "    population[times] = temp\n",
    "print(population)"
   ]
  },
  {
   "cell_type": "code",
   "execution_count": null,
   "id": "61b6b27f-3b5c-426d-82be-bef79fdbd53d",
   "metadata": {},
   "outputs": [],
   "source": [
    "def fitness(array_num):\n",
    "    sum_fit, sum_weight = 0, 0\n",
    "    sum_value = 0\n",
    "    # print(array_num)\n",
    "    for i in array_num:\n",
    "        sum_fit += dict[i][1] / dict[i][0]\n",
    "        sum_weight += dict[i][0]\n",
    "        sum_value += dict[i][1]\n",
    "    # print(sum_weight, sum_weight)\n",
    "    # sum_ = [sum_ += dict[j][0] for i in array for j in population[i]]\n",
    "    if sum_weight < 285 :\n",
    "        return sum_fit\n",
    "    else:\n",
    "        print(f'{sum_weight} too heavy, jump it')\n",
    "        return -1"
   ]
  },
  {
   "cell_type": "code",
   "execution_count": null,
   "id": "8951aa55-223b-4a59-8b88-bb59b2a40dfa",
   "metadata": {},
   "outputs": [],
   "source": [
    "gernation, times = 10000, 0\n",
    "lowest_index = 0\n",
    "lowest_fitness = fitness(population[lowest_index])\n",
    "for i in population:\n",
    "    if (fitness(population[i]) < lowest_fitness):\n",
    "        lowest_fitness = fitness(population[i])\n",
    "        lowest_index = i\n",
    "print(lowest_fitness, lowest_index)"
   ]
  },
  {
   "cell_type": "code",
   "execution_count": null,
   "id": "aebc31e7-af8d-4eb8-b08a-a853a54c061f",
   "metadata": {},
   "outputs": [],
   "source": [
    "import sys\n",
    "sys.setrecursionlimit(11000)"
   ]
  },
  {
   "cell_type": "code",
   "execution_count": null,
   "id": "69e0d643-49b2-4c2b-bbc8-a85e77778fca",
   "metadata": {},
   "outputs": [],
   "source": [
    "def mutation():\n",
    "    # binary tournament\n",
    "    # a = [random.randint(0, p - 1) for _ in range(2)]\n",
    "    \n",
    "    global times, lowest_index, lowest_fitness\n",
    "    \n",
    "    # parents = [random.randint(0, p - 1) for _ in range(2)]\n",
    "    # print(population)\n",
    "    while (True):\n",
    "        i = random.randint(0, len(population) - 1)\n",
    "        j = random.randint(0, len(population) - 1)\n",
    "        if i != j:\n",
    "            break\n",
    "        \n",
    "    p1, p2 = population[i], population[j]\n",
    "    index = random.randint(0, len(p1) if len(p1) < len(p2) else len(p2))\n",
    "    \n",
    "    print(f'round {times + 1}')\n",
    "    # print(parents, index, len(p1), len(p2))\n",
    "    \n",
    "    e = p1[0 : index] + p2[index : len(p2)]\n",
    "    f = p2[0 : index] + p1[index: len(p1)]\n",
    "    \n",
    "    # mutation 1 times TODO: mulity mutation\n",
    "    while (True): \n",
    "        a, b = random.randint(0, 99), random.randint(0, 99)\n",
    "        if (a != b and a not in p1 and b not in p2):\n",
    "            e[random.randint(0, len(e)) - 1] = a\n",
    "            f[random.randint(0, len(f)) - 1] = b\n",
    "            break\n",
    "    \n",
    "    if (fitness(e) > fitness(f)):\n",
    "        child = e\n",
    "    else:\n",
    "        child = f\n",
    "\n",
    "    if (fitness(child) > fitness(population[lowest_index])):\n",
    "        population[lowest_index] = child\n",
    "        print(f'mutation successfully number {lowest_index} changed')\n",
    "        \n",
    "        for i in population:\n",
    "            if (fitness(population[i]) < fitness(population[lowest_index])):\n",
    "                lowest_index = i\n",
    "                lowest_fitness = fitness(population[i])\n",
    "    \n",
    "    times += 1\n",
    "    if (times < gernation): mutation()"
   ]
  },
  {
   "cell_type": "code",
   "execution_count": null,
   "id": "83ed5fbd-ed1b-48ef-81d9-03818e0f37a2",
   "metadata": {},
   "outputs": [],
   "source": [
    "mutation()"
   ]
  },
  {
   "cell_type": "code",
   "execution_count": null,
   "id": "8f079096",
   "metadata": {},
   "outputs": [],
   "source": [
    "print(population)\n",
    "\n",
    "index, sum_value = 0, 0\n",
    "\n",
    "for i in population:\n",
    "    sum = 0\n",
    "    for j in population[i]:\n",
    "        sum += j\n",
    "    \n",
    "    print(i, \"value is\", sum, fitness(population[i]))\n",
    "    if (sum > sum_value):\n",
    "        index = i\n",
    "        sum_value = sum\n",
    "\n",
    "print(\"max\", index, sum_value)"
   ]
  }
 ],
 "metadata": {
  "kernelspec": {
   "display_name": "Python 3.8.10 64-bit",
   "language": "python",
   "name": "python3"
  },
  "language_info": {
   "codemirror_mode": {
    "name": "ipython",
    "version": 3
   },
   "file_extension": ".py",
   "mimetype": "text/x-python",
   "name": "python",
   "nbconvert_exporter": "python",
   "pygments_lexer": "ipython3",
   "version": "3.8.10"
  },
  "vscode": {
   "interpreter": {
    "hash": "916dbcbb3f70747c44a77c7bcd40155683ae19c65e1c03b4aa3499c5328201f1"
   }
  }
 },
 "nbformat": 4,
 "nbformat_minor": 5
}
