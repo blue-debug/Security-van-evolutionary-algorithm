{
 "cells": [
  {
   "cell_type": "code",
   "execution_count": null,
   "metadata": {},
   "outputs": [],
   "source": [
    "import matplotlib\n",
    "import numpy as np\n",
    "import pandas as pd\n",
    "\n",
    "from matplotlib import pyplot as plt\n",
    "from pylab import rcParams\n",
    "from sklearn import linear_model\n",
    "from sklearn.preprocessing import PolynomialFeatures\n",
    "from sklearn.metrics import mean_squared_error, r2_score, explained_variance_score, median_absolute_error\n",
    "from sklearn.model_selection import cross_val_score"
   ]
  },
  {
   "cell_type": "code",
   "execution_count": null,
   "metadata": {},
   "outputs": [],
   "source": [
    "src_path = 'indexProcessed.csv'\n",
    "test_rate = 0.2\n",
    "# test_num = 10                 # test number "
   ]
  },
  {
   "cell_type": "code",
   "execution_count": null,
   "metadata": {},
   "outputs": [],
   "source": [
    "df = pd.read_csv(src_path, sep = \",\")\n",
    "# df = df.drop(df.columns[[0]], axis = 1)\n",
    "display(df)"
   ]
  },
  {
   "cell_type": "code",
   "execution_count": null,
   "metadata": {},
   "outputs": [],
   "source": [
    "# Convert Date column to datetime\n",
    "df.loc[:, 'Date'] = pd.to_datetime(df['Date'],format='%Y-%m-%d')\n",
    "\n",
    "# Change all column headings to be lower case, and remove spacing\n",
    "df.columns = [str(x).lower().replace(' ', '_') for x in df.columns]\n",
    "\n",
    "# Get month of each sample\n",
    "# df['month'] = df['date'].dt.month\n",
    "\n",
    "# # Sort by datetime\n",
    "# df.sort_values(by='date', inplace=True, ascending=True)\n",
    "\n",
    "df.head(10)"
   ]
  },
  {
   "cell_type": "code",
   "execution_count": null,
   "metadata": {},
   "outputs": [],
   "source": [
    "index, times = print(df['index'][0]), 0\n",
    "change_index = []\n",
    "print(type(df))\n",
    "for i in df['index']:\n",
    "    if i != index:\n",
    "        print(i, times)\n",
    "        change_index.append(times)\n",
    "        index = i\n",
    "    times += 1\n",
    "print(change_index, len(change_index)) ## find index to split stocks\n",
    "# print(df[0: 2])\n",
    "# print(df.iloc[0: 2])"
   ]
  },
  {
   "cell_type": "code",
   "execution_count": null,
   "metadata": {},
   "outputs": [],
   "source": [
    "df.head(8495) # make sure the index is correct to split\n",
    "# print(df[0: 2])\n",
    "# print(df.iloc[0: 2])\n",
    "# print(df.loc[10000, 'index'])\n",
    "# df.loc[df['index'] == 'HSI'] # copy dataframe with case\n",
    "# print(df.iloc[len(df) - 1: len(df)]) # find last index\n",
    "# print(df.adj_close.shift(-2))"
   ]
  },
  {
   "cell_type": "code",
   "execution_count": null,
   "metadata": {},
   "outputs": [],
   "source": [
    "# ax = matplotlib.pyplot.subplots(4, 4)\n",
    "rcParams['figure.figsize'] = 6, 3\n",
    "\n",
    "index, times = 0, 0\n",
    "\n",
    "# while times < len(change_index):\n",
    "#         if times == 0:\n",
    "#                 ax = df.iloc[: change_index[times + 1]].plot(x = 'date', y = 'adj_close', style = 'b-', grid = True)\n",
    "#                 index = change_index[times]\n",
    "#                 ax.set_xlabel(df['index'][change_index[times]])\n",
    "#                 times += 1\n",
    "#                 continue\n",
    "\n",
    "#         elif times == len(change_index) - 1:\n",
    "#                 ax = df.iloc[change_index[times]:].plot(x = 'date', y = 'adj_close', style = 'b-', grid = True)\n",
    "#                 ax.set_xlabel(df['index'][change_index[times]])\n",
    "#                 break\n",
    "\n",
    "#         else:\n",
    "#                 ax = df.iloc[index: change_index[times + 1]].plot(x = 'date', y = 'adj_close', style = 'b-', grid = True)\n",
    "#                 index = change_index[times]\n",
    "#                 ax.set_xlabel(df['index'][change_index[times]])\n",
    "#                 times += 1\n"
   ]
  },
  {
   "cell_type": "markdown",
   "metadata": {},
   "source": [
    "## data process function"
   ]
  },
  {
   "cell_type": "code",
   "execution_count": null,
   "metadata": {},
   "outputs": [],
   "source": [
    "def wash_data(X, test_rate):\n",
    "    num_test = int(test_rate * len(X))\n",
    "    num_train = len(X) - num_test\n",
    "\n",
    "    X_train, Y_train = X[:num_train], X[:num_train].adj_close\n",
    "    X_test, Y_test = X[num_train:], X[num_train:].adj_close\n",
    "\n",
    "    date_val = X_test['date'].shift(1) ## x value to draw\n",
    "\n",
    "    X_train = X_train[['high', 'low', 'close', 'volume']]\n",
    "    X_test = X_test[['high', 'low', 'close', 'volume']]\n",
    "\n",
    "    Y_train.shift(-1).fillna(Y_train.mean()) # make data to predict next day price\n",
    "\n",
    "    X_train = X_train.shift(1).fillna(X_train.mean())\n",
    "\n",
    "    X_test = X_test.shift(1).fillna(X_test.mean())\n",
    "\n",
    "    Y_test = Y_test.shift(-1).fillna(Y_test.mean())\n",
    "\n",
    "    return X_train, Y_train, X_test, Y_test, date_val"
   ]
  },
  {
   "cell_type": "markdown",
   "metadata": {},
   "source": [
    "## Regression Switch Fuction (linear, polynomial and Losso)"
   ]
  },
  {
   "cell_type": "code",
   "execution_count": null,
   "metadata": {},
   "outputs": [],
   "source": [
    "def regression_mode(X, test_rate, mode):\n",
    "\n",
    "    # print(X)\n",
    "    X_train, Y_train, X_test, Y_test, date_val = wash_data(X, test_rate)\n",
    "\n",
    "    if mode == 'linear':\n",
    "        regression = linear_model.LinearRegression()\n",
    "        regression.fit(X_train, Y_train)\n",
    "        print(pd.DataFrame(regression.coef_.T, X_train.columns, columns = ['Coefficient']))\n",
    "        print(regression.intercept_)\n",
    "        Y_pred = regression.predict(X_test)\n",
    "        print(\"Coefficients: \\n\", regression.coef_)\n",
    "\n",
    "    elif mode == 'polynomial':\n",
    "        regression = PolynomialFeatures(degree = 2)\n",
    "        x_poly = regression.fit_transform(X_train)\n",
    "        model = linear_model.LinearRegression()\n",
    "        model.fit(x_poly, Y_train)\n",
    "        Y_pred = model.predict(regression.fit_transform(X_test))\n",
    "\n",
    "    else: \n",
    "        # Lasso\n",
    "        # from sklearn.linear_model import Lasso, LassoCV\n",
    "        regression = linear_model.Lasso(alpha = 5)\n",
    "        regression.fit(X_train, Y_train)\n",
    "        print(pd.DataFrame(regression.coef_.T, X_train.columns, columns = ['Coefficient']))\n",
    "        print(regression.intercept_)\n",
    "        Y_pred = regression.predict(X_test)\n",
    "        print(\"Coefficients: \\n\", regression.coef_)\n",
    "            \n",
    "\n",
    "    # The mean squared error\n",
    "    print(\"Mean squared error: %.2f\" % mean_squared_error(Y_test, Y_pred))\n",
    "    # The coefficient of determination: 1 is perfect prediction\n",
    "    print(\"Coefficient of determination: %.2f\" % r2_score(Y_test, Y_pred))\n",
    "    print(\"explained_variance_score: %.2f\" % explained_variance_score(Y_test, Y_pred))\n",
    "    mae = median_absolute_error(Y_test, Y_pred)\n",
    "    print(\"Mae: %.2f\" % mae)\n",
    "\n",
    "   \n",
    "    scores = cross_val_score(regression, X_test, Y_test, cv = 5)\n",
    "    print(scores)\n",
    "\n",
    "    rcParams['figure.figsize'] = 10,4\n",
    "    ax = matplotlib.pyplot.subplots(1, 1)\n",
    "    ax = plt.scatter(date_val, Y_test, color=\"blue\", marker = '.')\n",
    "    bx = plt.plot(date_val, Y_pred, color=\"red\")\n",
    "\n",
    "    # ax = plt.scatter(date_val[1: ], Y_test[: len(Y_test) - 1], color=\"blue\", marker = '.')\n",
    "    # bx = plt.plot(date_val[1: ], Y_pred[1: ], color=\"red\")"
   ]
  },
  {
   "cell_type": "markdown",
   "metadata": {},
   "source": [
    "## Main function"
   ]
  },
  {
   "cell_type": "code",
   "execution_count": null,
   "metadata": {},
   "outputs": [],
   "source": [
    "index, times = 0, 0\n",
    "model = 'linear' # polynomial or lasso\n",
    "\n",
    "while times < len(change_index):\n",
    "        print(df['index'][change_index[times]])\n",
    "        if times == 0:\n",
    "                regression_mode(df[:change_index[times + 1]], test_rate, model)\n",
    "                index = change_index[times]\n",
    "                times += 1\n",
    "                continue\n",
    "\n",
    "        elif times == len(change_index) - 1:\n",
    "                regression_mode(df[change_index[times]:], test_rate, model)\n",
    "                break\n",
    "\n",
    "        else:\n",
    "                regression_mode(df[index: change_index[times + 1]], test_rate, model)\n",
    "                index = change_index[times]\n",
    "                times += 1"
   ]
  }
 ],
 "metadata": {
  "kernelspec": {
   "display_name": "Python 3 (ipykernel)",
   "language": "python",
   "name": "python3"
  },
  "language_info": {
   "codemirror_mode": {
    "name": "ipython",
    "version": 3
   },
   "file_extension": ".py",
   "mimetype": "text/x-python",
   "name": "python",
   "nbconvert_exporter": "python",
   "pygments_lexer": "ipython3",
   "version": "3.8.10"
  },
  "vscode": {
   "interpreter": {
    "hash": "916dbcbb3f70747c44a77c7bcd40155683ae19c65e1c03b4aa3499c5328201f1"
   }
  }
 },
 "nbformat": 4,
 "nbformat_minor": 4
}
