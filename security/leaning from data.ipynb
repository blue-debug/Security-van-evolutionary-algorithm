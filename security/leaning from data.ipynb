{
 "cells": [
  {
   "cell_type": "code",
   "execution_count": null,
   "metadata": {},
   "outputs": [],
   "source": [
    "import matplotlib\n",
    "import numpy as np\n",
    "import pandas as pd\n",
    "import seaborn as sns\n",
    "\n",
    "from matplotlib import pyplot as plt\n",
    "from pylab import rcParams\n",
    "from sklearn import linear_model\n",
    "from sklearn.preprocessing import PolynomialFeatures\n",
    "from sklearn.metrics import mean_squared_error, r2_score, explained_variance_score, median_absolute_error\n",
    "from sklearn.model_selection import cross_val_score"
   ]
  },
  {
   "cell_type": "code",
   "execution_count": null,
   "metadata": {},
   "outputs": [],
   "source": [
    "src_stock_path = 'indexProcessed.csv'\n",
    "test_rate = 0.2                 # testing dataset proportion"
   ]
  },
  {
   "cell_type": "code",
   "execution_count": null,
   "metadata": {},
   "outputs": [],
   "source": [
    "df = pd.read_csv(src_stock_path, sep = \",\")\n",
    "# df = df.drop(df.columns[[0]], axis = 1)\n",
    "display(df)"
   ]
  },
  {
   "cell_type": "code",
   "execution_count": null,
   "metadata": {},
   "outputs": [],
   "source": [
    "# Convert Date column to datetime\n",
    "df.loc[:, 'Date'] = pd.to_datetime(df['Date'],format='%Y-%m-%d')\n",
    "\n",
    "# Change all column headings to be lower case, and remove spacing\n",
    "df.columns = [str(x).lower().replace(' ', '_') for x in df.columns]\n",
    "\n",
    "# df.head(10)\n",
    "display(df)"
   ]
  },
  {
   "cell_type": "code",
   "execution_count": null,
   "metadata": {},
   "outputs": [],
   "source": [
    "# read from indexinfo.csv\n",
    "f = open(\"indexInfo.csv\", 'r')\n",
    "data_str = f.read()\n",
    "data_lines = data_str.split('\\n')\n",
    "data_dict = {}\n",
    "# print(data_lines)\n",
    "\n",
    "for line in data_lines:\n",
    "  if line == '': break\n",
    "  fields = line.split(',')\n",
    "  # print(fields)\n",
    "  if 'Region' in fields[0]:\n",
    "    continue\n",
    "  key = fields[2]\n",
    "  value = fields[-1]\n",
    "  data_dict[key] = value\n",
    "\n",
    "print(data_dict)"
   ]
  },
  {
   "cell_type": "code",
   "execution_count": null,
   "metadata": {},
   "outputs": [],
   "source": [
    "grouped = df.groupby(df['index'])\n",
    "stock_label = []\n",
    "individual_stock = []\n",
    "for name, group in grouped:\n",
    "    stock_label.append(name)\n",
    "    individual_stock.append(group)\n",
    "    \n",
    "plt.title(\"Trading days\")\n",
    "plt.pie([len(i.index) for i in individual_stock], labels = [f'{name} : {data_dict[name]} : {len(individual_stock[index])}' for index, name in enumerate(stock_label)])"
   ]
  },
  {
   "cell_type": "code",
   "execution_count": null,
   "metadata": {},
   "outputs": [],
   "source": [
    "## del minimum dataset\n",
    "for index, name in enumerate(stock_label):\n",
    "    if name == 'J203.JO':\n",
    "        stock_label.pop(index)\n",
    "        individual_stock.pop(index)"
   ]
  },
  {
   "cell_type": "code",
   "execution_count": null,
   "metadata": {},
   "outputs": [],
   "source": [
    "fig = plt.figure(figsize = (20, 18))\n",
    "\n",
    "nrows = 5\n",
    "ncols = 3\n",
    "\n",
    "for index, label in enumerate(stock_label):\n",
    "  ax = fig.add_subplot(nrows, ncols, index + 1)\n",
    "  stock_data = individual_stock[index]\n",
    "  \n",
    "  ax.plot(stock_data['date'], stock_data['adj_close'], label = label)\n",
    "  ax.set_xlabel(label)\n",
    "  ax.set_ylabel(data_dict[label])\n",
    "plt.show()"
   ]
  },
  {
   "cell_type": "code",
   "execution_count": null,
   "metadata": {},
   "outputs": [],
   "source": [
    "sns.histplot(data=df, x=\"high\", y=\"adj_close\", palette='bright', kde=True)\n",
    "# plt.title('Number of companies at each Revenues/Employees level')\n",
    "# plt.xlabel('Revenues/Employees')\n",
    "# plt.ylabel('Number of companies')\n",
    "plt.show()"
   ]
  },
  {
   "cell_type": "code",
   "execution_count": null,
   "metadata": {},
   "outputs": [],
   "source": [
    "sns.histplot(data=df, x=\"volume\", y=\"adj_close\", palette='bright', kde=True)\n",
    "# plt.title('Number of companies at each Revenues/Employees level')\n",
    "# plt.xlabel('Revenues/Employees')\n",
    "# plt.ylabel('Number of companies')\n",
    "plt.show()"
   ]
  },
  {
   "cell_type": "code",
   "execution_count": null,
   "metadata": {},
   "outputs": [],
   "source": [
    "sns.histplot(data=df, x=\"close\", y=\"adj_close\", palette='bright', kde=True)\n",
    "# plt.title('Number of companies at each Revenues/Employees level')\n",
    "# plt.xlabel('Revenues/Employees')\n",
    "# plt.ylabel('Number of companies')\n",
    "plt.show()"
   ]
  },
  {
   "cell_type": "markdown",
   "metadata": {},
   "source": [
    "## data process function"
   ]
  },
  {
   "cell_type": "code",
   "execution_count": null,
   "metadata": {},
   "outputs": [],
   "source": [
    "def wash_data(X, test_rate):\n",
    "    # Calculate the number of data entries in the training and test sets\n",
    "    num_test = int(test_rate * len(X))\n",
    "    num_train = len(X) - num_test\n",
    "\n",
    "    # Get the training and test sets\n",
    "    X_train, Y_train = X[:num_train], X[:num_train].adj_close\n",
    "    X_test, Y_test = X[num_train:], X[num_train:].adj_close\n",
    "\n",
    "    # Get the date column data\n",
    "    date_val = X_test['date'].shift(day).dropna() ## x value to draw\n",
    "\n",
    "    # Keep only the high, low, close, volume columns\n",
    "    X_train = X_train[['high', 'low', 'volume']]\n",
    "    X_test = X_test[['high', 'low', 'volume']]\n",
    "\n",
    "    # Shift the adj_close column in the training set by one position and fill the empty value with the mean\n",
    "    Y_train = Y_train.fillna(Y_train.median()).shift(-day).dropna()\n",
    "\n",
    "    # Shift the high, low, close, volume columns in the training set by one position and fill the empty value with the mean\n",
    "    X_train = X_train.fillna(X_train.median()).shift(day).dropna()\n",
    "\n",
    "    # Shift the high, low, close, volume columns in the test set by one position and fill the empty value with the mean\n",
    "    X_test = X_test.shift(day).dropna()\n",
    "\n",
    "    # Shift the adj_close column in the test set by one position and fill the empty value with the mean\n",
    "    Y_test = Y_test.shift(-day).dropna()\n",
    "\n",
    "    return X_train, Y_train, X_test, Y_test, date_val"
   ]
  },
  {
   "cell_type": "markdown",
   "metadata": {},
   "source": [
    "## Regression Switch Fuction (linear, polynomial and Losso)"
   ]
  },
  {
   "cell_type": "code",
   "execution_count": null,
   "metadata": {},
   "outputs": [],
   "source": [
    "from warnings import simplefilter\n",
    "from sklearn.exceptions import ConvergenceWarning\n",
    "\n",
    "def regression_model(X, test_rate, mode, name, degree = 2, alpha = 1):\n",
    "    simplefilter(\"ignore\", category=ConvergenceWarning)\n",
    "\n",
    "    X_train, Y_train, X_test, Y_test, date_val = wash_data(X, test_rate)\n",
    "\n",
    "    if mode == 'linear':\n",
    "        regression = linear_model.LinearRegression()\n",
    "        regression.fit(X_train, Y_train)\n",
    "        Y_pred = regression.predict(X_test)\n",
    "\n",
    "    elif mode == 'polynomial':\n",
    "        regression = PolynomialFeatures(degree = degree)\n",
    "        x_poly = regression.fit_transform(X_train)\n",
    "        model = linear_model.LinearRegression()\n",
    "        model.fit(x_poly, Y_train)\n",
    "        Y_pred = model.predict(regression.fit_transform(X_test))\n",
    "\n",
    "    else: \n",
    "        regression = linear_model.Lasso(alpha = alpha)\n",
    "        regression.fit(X_train, Y_train)\n",
    "        Y_pred = regression.predict(X_test)\n",
    "            \n",
    "    mae = median_absolute_error(Y_test, Y_pred)\n",
    "\n",
    "    res = []\n",
    "    res.append(name)\n",
    "    res.append(mean_squared_error(Y_test, Y_pred))\n",
    "    res.append(\"{:.2%}\".format(r2_score(Y_test, Y_pred)))\n",
    "    # res.append(f'{r2_score(Y_test, Y_pred):.2f}%')\n",
    "    res.append(\"{:.2%}\".format(explained_variance_score(Y_test, Y_pred)))\n",
    "    res.append(mae)\n",
    "\n",
    "    ax = fig.add_subplot(nrows, ncols, index + 1)\n",
    "    stock_data = individual_stock[index]\n",
    "    ax.plot(date_val, Y_pred, color=\"red\")\n",
    "    ax.scatter(date_val, Y_test, color=\"blue\", marker = '.')\n",
    "    plt.xlabel(name)\n",
    "    plt.ylabel(data_dict[name])\n",
    "    \n",
    "    print(res)\n",
    "    return res\n",
    "\n",
    "    # ax = plt.scatter(date_val[1: ], Y_test[: len(Y_test) - 1], color=\"blue\", marker = '.')\n",
    "    # bx = plt.plot(date_val[1: ], Y_pred[1: ], color=\"red\")\n"
   ]
  },
  {
   "cell_type": "markdown",
   "metadata": {},
   "source": [
    "## Main function"
   ]
  },
  {
   "attachments": {},
   "cell_type": "markdown",
   "metadata": {},
   "source": [
    "#### linear"
   ]
  },
  {
   "cell_type": "code",
   "execution_count": null,
   "metadata": {},
   "outputs": [],
   "source": [
    "model = 'linear' # linear, polynomial and lasso\n",
    "fig = plt.figure(figsize = (20, 18))\n",
    "index = 0\n",
    "day = 1 # predict n days price\n",
    "test_rate = 0.2\n",
    "\n",
    "print(f'{model} regression to predict {day} days later adj_close price')\n",
    "print('name    | mean squared error', ' |   r2_score   ', '| explained_variance_score', '| mae')\n",
    "for index, label in enumerate(stock_label):\n",
    "    regression_model(individual_stock[index], test_rate, model, label)\n",
    "\n",
    "# plt.title(f'{model} regression to predict {day} days later stock adj_close price')\n",
    "plt.show()"
   ]
  },
  {
   "attachments": {},
   "cell_type": "markdown",
   "metadata": {},
   "source": [
    "#### polynomial"
   ]
  },
  {
   "cell_type": "code",
   "execution_count": null,
   "metadata": {},
   "outputs": [],
   "source": [
    "model = 'polynomial' # linear, polynomial and lasso\n",
    "fig = plt.figure(figsize = (20, 18))\n",
    "index = 0\n",
    "day = 1\n",
    "test_rate = 0.2\n",
    "\n",
    "print(f'{model} regression to predict {day} days later adj_close price')\n",
    "print('name    | mean squared error', ' |   r2_score   ', '| explained_variance_score', '| mae')\n",
    "for index, label in enumerate(stock_label):\n",
    "    regression_model(individual_stock[index], test_rate, model, label, degree = (2, 3))\n",
    "\n",
    "# plt.title(f'{model} regression to predict {day} days later stock adj_close price')\n",
    "plt.show()"
   ]
  },
  {
   "attachments": {},
   "cell_type": "markdown",
   "metadata": {},
   "source": [
    "#### lasso"
   ]
  },
  {
   "cell_type": "code",
   "execution_count": null,
   "metadata": {},
   "outputs": [],
   "source": [
    "model = 'lasso' # linear, polynomial and lasso\n",
    "fig = plt.figure(figsize = (20, 18))\n",
    "index = 0\n",
    "day = 1\n",
    "test_rate = 0.2\n",
    "\n",
    "print(f'{model} regression to predict {day} days later adj_close price')\n",
    "print('name    | mean squared error', ' |   r2_score   ', '| explained_variance_score', '| mae')\n",
    "for index, label in enumerate(stock_label):\n",
    "    regression_model(individual_stock[index], test_rate, model, label, alpha = 5)\n",
    "\n",
    "# plt.title(f'{model} regression to predict {day} days later stock adj_close price')\n",
    "plt.show()"
   ]
  }
 ],
 "metadata": {
  "kernelspec": {
   "display_name": "Python 3 (ipykernel)",
   "language": "python",
   "name": "python3"
  },
  "language_info": {
   "codemirror_mode": {
    "name": "ipython",
    "version": 3
   },
   "file_extension": ".py",
   "mimetype": "text/x-python",
   "name": "python",
   "nbconvert_exporter": "python",
   "pygments_lexer": "ipython3",
   "version": "3.8.10 (default, Jun 22 2022, 20:18:18) \n[GCC 9.4.0]"
  },
  "vscode": {
   "interpreter": {
    "hash": "916dbcbb3f70747c44a77c7bcd40155683ae19c65e1c03b4aa3499c5328201f1"
   }
  }
 },
 "nbformat": 4,
 "nbformat_minor": 4
}
