{
 "cells": [
  {
   "cell_type": "code",
   "execution_count": null,
   "metadata": {},
   "outputs": [],
   "source": [
    "import matplotlib\n",
    "import numpy as np\n",
    "import pandas as pd\n",
    "\n",
    "from datetime import date, datetime, time, timedelta\n",
    "from matplotlib import pyplot as plt\n",
    "from pylab import rcParams\n",
    "from sklearn.linear_model import LinearRegression\n",
    "from sklearn.metrics import mean_squared_error\n",
    "\n",
    "# https://zhuanlan.zhihu.com/p/56507515\n",
    "# https://zhuanlan.zhihu.com/p/410655154\n",
    "# https://zhuanlan.zhihu.com/p/21275919"
   ]
  },
  {
   "cell_type": "code",
   "execution_count": null,
   "metadata": {},
   "outputs": [],
   "source": [
    "src_path = 'indexProcessed.csv'\n",
    "test_size = 0.1               # proportion of dataset to be used as test set\n",
    "cv_size = 0.2                   # proportion of dataset to be used as cross-validation set\n",
    "Nmax = 2                        # for feature at day t, we use lags from t-1, t-2, ..., t-N as features\n",
    "                                # Nmax is the maximum N we are going to test\n",
    "fontsize = 14\n",
    "ticklabelsize = 14"
   ]
  },
  {
   "cell_type": "code",
   "execution_count": null,
   "metadata": {},
   "outputs": [],
   "source": [
    "df = pd.read_csv(src_path, sep = \",\")\n",
    "# df = df.drop(df.columns[[0]], axis = 1)\n",
    "del df['Index']\n",
    "display(df)"
   ]
  },
  {
   "cell_type": "code",
   "execution_count": null,
   "metadata": {},
   "outputs": [],
   "source": [
    "# Convert Date column to datetime\n",
    "df.loc[:, 'Date'] = pd.to_datetime(df['Date'],format='%Y-%m-%d')\n",
    "\n",
    "# Change all column headings to be lower case, and remove spacing\n",
    "df.columns = [str(x).lower().replace(' ', '_') for x in df.columns]\n",
    "\n",
    "# Get month of each sample\n",
    "df['month'] = df['date'].dt.month\n",
    "\n",
    "# Sort by datetime\n",
    "df.sort_values(by='date', inplace=True, ascending=True)\n",
    "\n",
    "df.head(10)"
   ]
  },
  {
   "cell_type": "code",
   "execution_count": null,
   "metadata": {},
   "outputs": [],
   "source": [
    "rcParams['figure.figsize'] = 10, 8 # width 10, height 8\n",
    "\n",
    "ax = df.plot(x = 'date', y = 'adj_close', style = 'r-', grid = True)\n",
    "ax.set_xlabel(\"date\")\n",
    "# df.plot(x = 'date', y = 'adj_close', marker = ',', markevery = 10, color = 'r', ls = '-', lw = 2)"
   ]
  },
  {
   "cell_type": "code",
   "execution_count": null,
   "metadata": {},
   "outputs": [],
   "source": [
    "# Get sizes of each of the datasets\n",
    "num_cv, num_test = int(cv_size*len(df)), int(test_size*len(df))\n",
    "num_train = len(df) - num_cv - num_test\n",
    "\n",
    "print(\"total_num = \" + str(len(df)) )\n",
    "print(\"num_train = \" + str(num_train))\n",
    "print(\"num_cv = \" + str(num_cv))\n",
    "print(\"num_test = \" + str(num_test))\n",
    "\n",
    "# Split into train, cv, and test\n",
    "train = df[:num_train]\n",
    "cv = df[num_train: num_train + num_cv]\n",
    "train_cv = df[:num_train + num_cv]\n",
    "test = df[num_train + num_cv:]\n",
    "print(\"train.shape = \" + str(train.shape))\n",
    "print(\"cv.shape = \" + str(cv.shape))\n",
    "print(\"train_cv.shape = \" + str(train_cv.shape))\n",
    "print(\"test.shape = \" + str(test.shape))"
   ]
  },
  {
   "cell_type": "code",
   "execution_count": null,
   "metadata": {},
   "outputs": [],
   "source": [
    "# Plot adjusted close over time\n",
    "rcParams['figure.figsize'] = 10, 8 # width 10, height 8\n",
    "\n",
    "ax = train.plot(x = 'date', y = 'adj_close', style = 'b-', grid = True)\n",
    "ax = cv.plot(x = 'date', y = 'adj_close', style = 'y-', grid = True, ax = ax)\n",
    "ax = test.plot(x = 'date', y = 'adj_close', style = 'g-', grid = True, ax = ax)\n",
    "ax.legend(['train', 'dev', 'test'])\n",
    "ax.set_xlabel(\"date\")\n",
    "ax.set_ylabel(\"USD\")"
   ]
  },
  {
   "cell_type": "code",
   "execution_count": null,
   "metadata": {},
   "outputs": [],
   "source": [
    "# X_train,Y_train = df['date'][:num_train], df['adj_close'][:num_train]\n",
    "# X_test,Y_test = df['date'][num_train:], df['adj_close'][num_train:]\n",
    "X_train, Y_train = df[:num_train], df[:num_train].adj_close\n",
    "X_test, Y_test = df[num_train:], df[num_train:].adj_close\n",
    "# Y_train = df.pop('adj_close')\n",
    "# X_train = df.pop('date')\n",
    "\n",
    "date_val = X_test['date']\n",
    "del X_train['adj_close']\n",
    "del X_train['date']\n",
    "del X_train['closeusd']\n",
    "del X_test['adj_close']\n",
    "del X_test['date']\n",
    "del X_test['closeusd']\n",
    "\n",
    "# X_train = X_train['open'].values.reshape(-1, 1)\n",
    "# X_test = X_test['open'].values.reshape(-1, 1)\n",
    "\n",
    "mean = Y_train.mean()\n",
    "print(mean)\n",
    "Y_train = Y_train.fillna(mean, inplace=False) \n",
    "\n",
    "mean = X_train.mean()\n",
    "X_train = X_train.fillna(mean, inplace=False) \n",
    "\n",
    "# mean = X_test.mean()\n",
    "# X_test = X_test.fillna(mean, inplace=False) \n",
    "\n",
    "# mean = Y_test.mean()\n",
    "# Y_test = Y_test.fillna(mean, inplace=False) \n",
    "# # X_train = X_train.values.reshape(-1, 1)\n",
    "\n",
    "print(X_train, Y_train)\n",
    "# print(X_test, Y_test)"
   ]
  },
  {
   "cell_type": "code",
   "execution_count": null,
   "metadata": {},
   "outputs": [],
   "source": [
    "# from sklearn import linear_model\n",
    "# reg = linear_model.Ridge(alpha=.5)\n",
    "# # score = get_score(X_train, y_train)\n",
    "# reg.fit(X_train, Y_train)\n",
    "# reg.coef_\n",
    "# reg.intercept_\n",
    "\n",
    "from sklearn import linear_model\n",
    "regr = linear_model.LinearRegression()\n",
    "\n",
    "# Train the model using the training sets\n",
    "regr.fit(X_train, Y_train)\n",
    "regr.coef_\n",
    "regr.intercept_"
   ]
  },
  {
   "cell_type": "code",
   "execution_count": null,
   "metadata": {},
   "outputs": [],
   "source": [
    "# from sklearn.metrics import median_absolute_error\n",
    "\n",
    "# y_pred = reg.predict(X_train)\n",
    "\n",
    "# mae = median_absolute_error(Y_train, y_pred)\n",
    "# string_score = f\"MAE on training set: {mae:.2f} $/hour\"\n",
    "# y_pred = reg.predict(X_test)\n",
    "# mae = median_absolute_error(Y_test, y_pred)\n",
    "# string_score += f\"\\nMAE on testing set: {mae:.2f} $/hour\"\n",
    "\n",
    "Y_pred = regr.predict(X_test)\n",
    "print(Y_pred, len(Y_pred))\n",
    "\n",
    "from sklearn.metrics import mean_squared_error, r2_score\n",
    "# The coefficients\n",
    "print(\"Coefficients: \\n\", regr.coef_)\n",
    "# The mean squared error\n",
    "print(\"Mean squared error: %.2f\" % mean_squared_error(Y_test, Y_pred))\n",
    "# The coefficient of determination: 1 is perfect prediction\n",
    "print(\"Coefficient of determination: %.2f\" % r2_score(Y_test, Y_pred))"
   ]
  },
  {
   "cell_type": "code",
   "execution_count": null,
   "metadata": {},
   "outputs": [],
   "source": [
    "print(len(Y_pred), len(Y_test))\n",
    "plt.scatter(date_val, Y_test, color=\"blue\")\n",
    "plt.plot(date_val, Y_pred, color=\"red\", linewidth = 3)\n",
    "plt.show()"
   ]
  },
  {
   "cell_type": "code",
   "execution_count": null,
   "metadata": {},
   "outputs": [],
   "source": [
    "from sklearn.metrics import explained_variance_score\n",
    "print(explained_variance_score(Y_test, Y_pred))\n",
    "\n",
    "times = 0\n",
    "diff = 0\n",
    "for i in Y_test:\n",
    "    if int(i) != int(Y_pred[times]):\n",
    "        # print(\"different\", i, Y_pred[times])\n",
    "        diff += 1\n",
    "    times += 1\n",
    "print(diff, \"{%.2f%}\", diff / len(Y_pred))"
   ]
  },
  {
   "cell_type": "code",
   "execution_count": null,
   "metadata": {},
   "outputs": [],
   "source": [
    "from sklearn.model_selection import cross_val_score\n",
    "scores = cross_val_score(regr, X_test, Y_test, cv=5)\n",
    "print(scores)"
   ]
  },
  {
   "cell_type": "code",
   "execution_count": null,
   "metadata": {},
   "outputs": [],
   "source": []
  }
 ],
 "metadata": {
  "kernelspec": {
   "display_name": "Python 3 (ipykernel)",
   "language": "python",
   "name": "python3"
  },
  "language_info": {
   "codemirror_mode": {
    "name": "ipython",
    "version": 3
   },
   "file_extension": ".py",
   "mimetype": "text/x-python",
   "name": "python",
   "nbconvert_exporter": "python",
   "pygments_lexer": "ipython3",
   "version": "3.8.10"
  },
  "vscode": {
   "interpreter": {
    "hash": "916dbcbb3f70747c44a77c7bcd40155683ae19c65e1c03b4aa3499c5328201f1"
   }
  }
 },
 "nbformat": 4,
 "nbformat_minor": 4
}
